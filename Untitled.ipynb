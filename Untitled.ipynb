{
 "cells": [
  {
   "cell_type": "code",
   "execution_count": 2,
   "id": "c24aca6b-82c8-4df1-a9f5-db17744ee510",
   "metadata": {},
   "outputs": [],
   "source": [
    "import pandas as pd\n",
    "import matplotlib.pyplot as plt\n",
    "import numpy as np\n",
    "import os"
   ]
  },
  {
   "cell_type": "code",
   "execution_count": 8,
   "id": "d70d225c-32f6-41c5-a015-f120431da368",
   "metadata": {},
   "outputs": [],
   "source": [
    "df = pd.read_csv(r'\\Users\\joede\\workspace\\c11\\Python\\Projects\\Wego\\headway_data.csv')"
   ]
  },
  {
   "cell_type": "code",
   "execution_count": 16,
   "id": "9fabd11f-1715-42bd-a84a-030b7e09a2aa",
   "metadata": {},
   "outputs": [
    {
     "data": {
      "text/plain": [
       "(350329, 36)"
      ]
     },
     "execution_count": 16,
     "metadata": {},
     "output_type": "execute_result"
    }
   ],
   "source": [
    "df.shape"
   ]
  },
  {
   "cell_type": "code",
   "execution_count": 17,
   "id": "f2f7bb5f-4951-400f-8f43-2a5c211f4963",
   "metadata": {},
   "outputs": [
    {
     "data": {
      "text/html": [
       "<div>\n",
       "<style scoped>\n",
       "    .dataframe tbody tr th:only-of-type {\n",
       "        vertical-align: middle;\n",
       "    }\n",
       "\n",
       "    .dataframe tbody tr th {\n",
       "        vertical-align: top;\n",
       "    }\n",
       "\n",
       "    .dataframe thead th {\n",
       "        text-align: right;\n",
       "    }\n",
       "</style>\n",
       "<table border=\"1\" class=\"dataframe\">\n",
       "  <thead>\n",
       "    <tr style=\"text-align: right;\">\n",
       "      <th></th>\n",
       "      <th>CALENDAR_ID</th>\n",
       "      <th>SERVICE_ABBR</th>\n",
       "      <th>ADHERENCE_ID</th>\n",
       "      <th>DATE</th>\n",
       "      <th>ROUTE_ABBR</th>\n",
       "      <th>BLOCK_ABBR</th>\n",
       "      <th>OPERATOR</th>\n",
       "      <th>TRIP_ID</th>\n",
       "      <th>OVERLOAD_ID</th>\n",
       "      <th>ROUTE_DIRECTION_NAME</th>\n",
       "      <th>...</th>\n",
       "      <th>PREV_SCHED_STOP_CANCELLED</th>\n",
       "      <th>IS_RELIEF</th>\n",
       "      <th>DWELL_IN_MINS</th>\n",
       "      <th>SCHEDULED_LAYOVER_MINUTES</th>\n",
       "      <th>DATE_PARSED</th>\n",
       "      <th>TIME_POINT_ABBR_PARSED</th>\n",
       "      <th>SCHEDULED_TIME_PARSED</th>\n",
       "      <th>ACTUAL_ARRIVAL_TIME_PARSED</th>\n",
       "      <th>ACTUAL_DEPARTURE_TIME_PARSED</th>\n",
       "      <th>ADJUSTED_ONTIME_COUNT_PARSED</th>\n",
       "    </tr>\n",
       "  </thead>\n",
       "  <tbody>\n",
       "    <tr>\n",
       "      <th>0</th>\n",
       "      <td>120230801</td>\n",
       "      <td>1</td>\n",
       "      <td>99457890</td>\n",
       "      <td>2023-08-01</td>\n",
       "      <td>22</td>\n",
       "      <td>2200</td>\n",
       "      <td>1040</td>\n",
       "      <td>345104</td>\n",
       "      <td>0</td>\n",
       "      <td>TO DOWNTOWN</td>\n",
       "      <td>...</td>\n",
       "      <td>0.0</td>\n",
       "      <td>0</td>\n",
       "      <td>6.500000</td>\n",
       "      <td>NaN</td>\n",
       "      <td>2023-08-01</td>\n",
       "      <td>NaT</td>\n",
       "      <td>2023-08-01 04:42:00</td>\n",
       "      <td>2023-08-01 04:37:38</td>\n",
       "      <td>2023-08-01 04:44:08</td>\n",
       "      <td>1970-01-01 00:00:00.000000001</td>\n",
       "    </tr>\n",
       "    <tr>\n",
       "      <th>1</th>\n",
       "      <td>120230801</td>\n",
       "      <td>1</td>\n",
       "      <td>99457891</td>\n",
       "      <td>2023-08-01</td>\n",
       "      <td>22</td>\n",
       "      <td>2200</td>\n",
       "      <td>1040</td>\n",
       "      <td>345104</td>\n",
       "      <td>0</td>\n",
       "      <td>TO DOWNTOWN</td>\n",
       "      <td>...</td>\n",
       "      <td>0.0</td>\n",
       "      <td>0</td>\n",
       "      <td>0.000000</td>\n",
       "      <td>NaN</td>\n",
       "      <td>2023-08-01</td>\n",
       "      <td>NaT</td>\n",
       "      <td>2023-08-01 04:46:00</td>\n",
       "      <td>2023-08-01 04:48:27</td>\n",
       "      <td>2023-08-01 04:48:27</td>\n",
       "      <td>1970-01-01 00:00:00.000000001</td>\n",
       "    </tr>\n",
       "    <tr>\n",
       "      <th>2</th>\n",
       "      <td>120230801</td>\n",
       "      <td>1</td>\n",
       "      <td>99457892</td>\n",
       "      <td>2023-08-01</td>\n",
       "      <td>22</td>\n",
       "      <td>2200</td>\n",
       "      <td>1040</td>\n",
       "      <td>345104</td>\n",
       "      <td>0</td>\n",
       "      <td>TO DOWNTOWN</td>\n",
       "      <td>...</td>\n",
       "      <td>0.0</td>\n",
       "      <td>0</td>\n",
       "      <td>0.000000</td>\n",
       "      <td>NaN</td>\n",
       "      <td>2023-08-01</td>\n",
       "      <td>NaT</td>\n",
       "      <td>2023-08-01 04:54:00</td>\n",
       "      <td>2023-08-01 04:54:56</td>\n",
       "      <td>2023-08-01 04:54:56</td>\n",
       "      <td>1970-01-01 00:00:00.000000001</td>\n",
       "    </tr>\n",
       "    <tr>\n",
       "      <th>3</th>\n",
       "      <td>120230801</td>\n",
       "      <td>1</td>\n",
       "      <td>99457893</td>\n",
       "      <td>2023-08-01</td>\n",
       "      <td>22</td>\n",
       "      <td>2200</td>\n",
       "      <td>1040</td>\n",
       "      <td>345104</td>\n",
       "      <td>0</td>\n",
       "      <td>TO DOWNTOWN</td>\n",
       "      <td>...</td>\n",
       "      <td>NaN</td>\n",
       "      <td>0</td>\n",
       "      <td>0.000000</td>\n",
       "      <td>NaN</td>\n",
       "      <td>2023-08-01</td>\n",
       "      <td>NaT</td>\n",
       "      <td>2023-08-01 05:10:00</td>\n",
       "      <td>2023-08-01 05:03:43</td>\n",
       "      <td>2023-08-01 05:03:43</td>\n",
       "      <td>1970-01-01 00:00:00.000000001</td>\n",
       "    </tr>\n",
       "    <tr>\n",
       "      <th>4</th>\n",
       "      <td>120230801</td>\n",
       "      <td>1</td>\n",
       "      <td>99457894</td>\n",
       "      <td>2023-08-01</td>\n",
       "      <td>22</td>\n",
       "      <td>2200</td>\n",
       "      <td>1040</td>\n",
       "      <td>345105</td>\n",
       "      <td>0</td>\n",
       "      <td>FROM DOWNTOWN</td>\n",
       "      <td>...</td>\n",
       "      <td>0.0</td>\n",
       "      <td>0</td>\n",
       "      <td>12.866666</td>\n",
       "      <td>5.0</td>\n",
       "      <td>2023-08-01</td>\n",
       "      <td>NaT</td>\n",
       "      <td>2023-08-01 05:15:00</td>\n",
       "      <td>2023-08-01 05:03:43</td>\n",
       "      <td>2023-08-01 05:16:35</td>\n",
       "      <td>1970-01-01 00:00:00.000000001</td>\n",
       "    </tr>\n",
       "  </tbody>\n",
       "</table>\n",
       "<p>5 rows × 36 columns</p>\n",
       "</div>"
      ],
      "text/plain": [
       "   CALENDAR_ID  SERVICE_ABBR  ADHERENCE_ID        DATE  ROUTE_ABBR  \\\n",
       "0    120230801             1      99457890  2023-08-01          22   \n",
       "1    120230801             1      99457891  2023-08-01          22   \n",
       "2    120230801             1      99457892  2023-08-01          22   \n",
       "3    120230801             1      99457893  2023-08-01          22   \n",
       "4    120230801             1      99457894  2023-08-01          22   \n",
       "\n",
       "   BLOCK_ABBR  OPERATOR  TRIP_ID  OVERLOAD_ID ROUTE_DIRECTION_NAME  ...  \\\n",
       "0        2200      1040   345104            0          TO DOWNTOWN  ...   \n",
       "1        2200      1040   345104            0          TO DOWNTOWN  ...   \n",
       "2        2200      1040   345104            0          TO DOWNTOWN  ...   \n",
       "3        2200      1040   345104            0          TO DOWNTOWN  ...   \n",
       "4        2200      1040   345105            0        FROM DOWNTOWN  ...   \n",
       "\n",
       "  PREV_SCHED_STOP_CANCELLED  IS_RELIEF  DWELL_IN_MINS  \\\n",
       "0                       0.0          0       6.500000   \n",
       "1                       0.0          0       0.000000   \n",
       "2                       0.0          0       0.000000   \n",
       "3                       NaN          0       0.000000   \n",
       "4                       0.0          0      12.866666   \n",
       "\n",
       "   SCHEDULED_LAYOVER_MINUTES  DATE_PARSED TIME_POINT_ABBR_PARSED  \\\n",
       "0                        NaN   2023-08-01                    NaT   \n",
       "1                        NaN   2023-08-01                    NaT   \n",
       "2                        NaN   2023-08-01                    NaT   \n",
       "3                        NaN   2023-08-01                    NaT   \n",
       "4                        5.0   2023-08-01                    NaT   \n",
       "\n",
       "  SCHEDULED_TIME_PARSED ACTUAL_ARRIVAL_TIME_PARSED  \\\n",
       "0   2023-08-01 04:42:00        2023-08-01 04:37:38   \n",
       "1   2023-08-01 04:46:00        2023-08-01 04:48:27   \n",
       "2   2023-08-01 04:54:00        2023-08-01 04:54:56   \n",
       "3   2023-08-01 05:10:00        2023-08-01 05:03:43   \n",
       "4   2023-08-01 05:15:00        2023-08-01 05:03:43   \n",
       "\n",
       "   ACTUAL_DEPARTURE_TIME_PARSED  ADJUSTED_ONTIME_COUNT_PARSED  \n",
       "0           2023-08-01 04:44:08 1970-01-01 00:00:00.000000001  \n",
       "1           2023-08-01 04:48:27 1970-01-01 00:00:00.000000001  \n",
       "2           2023-08-01 04:54:56 1970-01-01 00:00:00.000000001  \n",
       "3           2023-08-01 05:03:43 1970-01-01 00:00:00.000000001  \n",
       "4           2023-08-01 05:16:35 1970-01-01 00:00:00.000000001  \n",
       "\n",
       "[5 rows x 36 columns]"
      ]
     },
     "execution_count": 17,
     "metadata": {},
     "output_type": "execute_result"
    }
   ],
   "source": [
    "df.head()"
   ]
  },
  {
   "cell_type": "code",
   "execution_count": 22,
   "id": "5c3d1992-893c-44fe-b7db-49fa7e847976",
   "metadata": {},
   "outputs": [
    {
     "name": "stdout",
     "output_type": "stream",
     "text": [
      "<class 'pandas.core.frame.DataFrame'>\n",
      "RangeIndex: 350329 entries, 0 to 350328\n",
      "Data columns (total 36 columns):\n",
      " #   Column                        Non-Null Count   Dtype         \n",
      "---  ------                        --------------   -----         \n",
      " 0   CALENDAR_ID                   350329 non-null  int64         \n",
      " 1   SERVICE_ABBR                  350329 non-null  int64         \n",
      " 2   ADHERENCE_ID                  350329 non-null  int64         \n",
      " 3   DATE                          350329 non-null  datetime64[ns]\n",
      " 4   ROUTE_ABBR                    350329 non-null  int64         \n",
      " 5   BLOCK_ABBR                    350329 non-null  int64         \n",
      " 6   OPERATOR                      350329 non-null  int64         \n",
      " 7   TRIP_ID                       350329 non-null  int64         \n",
      " 8   OVERLOAD_ID                   350329 non-null  int64         \n",
      " 9   ROUTE_DIRECTION_NAME          350329 non-null  object        \n",
      " 10  TIME_POINT_ABBR               350329 non-null  object        \n",
      " 11  ROUTE_STOP_SEQUENCE           350318 non-null  float64       \n",
      " 12  TRIP_EDGE                     350329 non-null  int64         \n",
      " 13  LATITUDE                      350329 non-null  float64       \n",
      " 14  LONGITUDE                     350329 non-null  float64       \n",
      " 15  SCHEDULED_TIME                350329 non-null  datetime64[ns]\n",
      " 16  ACTUAL_ARRIVAL_TIME           338870 non-null  datetime64[ns]\n",
      " 17  ACTUAL_DEPARTURE_TIME         338861 non-null  datetime64[ns]\n",
      " 18  ADHERENCE                     338861 non-null  float64       \n",
      " 19  SCHEDULED_HDWY                274738 non-null  float64       \n",
      " 20  ACTUAL_HDWY                   266062 non-null  float64       \n",
      " 21  HDWY_DEV                      265893 non-null  float64       \n",
      " 22  ADJUSTED_EARLY_COUNT          350329 non-null  int64         \n",
      " 23  ADJUSTED_LATE_COUNT           350329 non-null  int64         \n",
      " 24  ADJUSTED_ONTIME_COUNT         350329 non-null  int64         \n",
      " 25  STOP_CANCELLED                350329 non-null  int64         \n",
      " 26  PREV_SCHED_STOP_CANCELLED     280000 non-null  float64       \n",
      " 27  IS_RELIEF                     350329 non-null  int64         \n",
      " 28  DWELL_IN_MINS                 338858 non-null  float64       \n",
      " 29  SCHEDULED_LAYOVER_MINUTES     53102 non-null   float64       \n",
      " 30  DATE_PARSED                   350329 non-null  datetime64[ns]\n",
      " 31  TIME_POINT_ABBR_PARSED        0 non-null       datetime64[ns]\n",
      " 32  SCHEDULED_TIME_PARSED         350329 non-null  datetime64[ns]\n",
      " 33  ACTUAL_ARRIVAL_TIME_PARSED    338870 non-null  datetime64[ns]\n",
      " 34  ACTUAL_DEPARTURE_TIME_PARSED  338861 non-null  datetime64[ns]\n",
      " 35  ADJUSTED_ONTIME_COUNT_PARSED  350329 non-null  datetime64[ns]\n",
      "dtypes: datetime64[ns](10), float64(10), int64(14), object(2)\n",
      "memory usage: 96.2+ MB\n"
     ]
    }
   ],
   "source": [
    "df.info()"
   ]
  },
  {
   "cell_type": "code",
   "execution_count": 19,
   "id": "c1b623a8-5c5c-43fb-9327-e8984410cfeb",
   "metadata": {},
   "outputs": [],
   "source": [
    "date_cols = ['DATE', 'ACTUAL_ARRIVAL_TIME', 'ACTUAL_DEPARTURE_TIME', 'SCHEDULED_TIME']\n",
    "for col in date_cols:\n",
    "    if col in df.columns:\n",
    "        df[col] = pd.to_datetime(df[col], errors='coerce')"
   ]
  },
  {
   "cell_type": "code",
   "execution_count": 21,
   "id": "c3b117df-c2ce-4da8-b8d1-f36d471524f2",
   "metadata": {},
   "outputs": [],
   "source": [
    "num_cols = ['ADHERENCE', 'HDWY_DEV', 'SCHEDULED_HDWY', 'ACTUAL_HDWY',\n",
    "            'DWELL_IN_MINS', 'SCHEDULED_LAYOVER_MINUTES',\n",
    "            'ADJUSTED_EARLY_COUNT', 'ADJUSTED_LATE_COUNT', 'ADJUSTED_ONTIME_COUNT']\n",
    "for col in num_cols:\n",
    "    if col in df.columns:\n",
    "        df[col] = pd.to_numeric(df[col], errors='coerce')"
   ]
  },
  {
   "cell_type": "code",
   "execution_count": 23,
   "id": "cb7443f6-ad6c-46da-8b68-13011ec396fd",
   "metadata": {},
   "outputs": [],
   "source": [
    "df = df.dropna(subset=['ADHERENCE'])"
   ]
  },
  {
   "cell_type": "code",
   "execution_count": 26,
   "id": "fae24ab6-afa0-419d-a520-438fc17aca3b",
   "metadata": {},
   "outputs": [
    {
     "data": {
      "text/plain": [
       "<Axes: >"
      ]
     },
     "execution_count": 26,
     "metadata": {},
     "output_type": "execute_result"
    },
    {
     "data": {
      "image/png": "[encoded data removed]",
      "text/plain": [
       "<Figure size 640x480 with 1 Axes>"
      ]
     },
     "metadata": {},
     "output_type": "display_data"
    }
   ],
   "source": [
    "df['ADHERENCE'].plot(kind='box')"
   ]
  },
  {
   "cell_type": "code",
   "execution_count": 25,
   "id": "d667ddb9-1372-43cd-a34a-91b3394cce91",
   "metadata": {},
   "outputs": [],
   "source": [
    "df = df[(df['ADHERENCE'] > -60) & (df['ADHERENCE'] < 60)]"
   ]
  },
  {
   "cell_type": "code",
   "execution_count": 27,
   "id": "deb75403-27c3-400b-b246-45435a738100",
   "metadata": {},
   "outputs": [],
   "source": [
    "df = df[(df['SCHEDULED_HDWY'] > 0) & (df['SCHEDULED_HDWY'] < 90)]\n",
    "df = df[(df['ACTUAL_HDWY'] >= 0) & (df['ACTUAL_HDWY'] < 120)]"
   ]
  },
  {
   "cell_type": "code",
   "execution_count": 28,
   "id": "80c019bc-0266-4e6c-9535-4e30c1fe94c3",
   "metadata": {},
   "outputs": [],
   "source": [
    "df = df[(df['HDWY_DEV'] > -30) & (df['HDWY_DEV'] < 60)]"
   ]
  },
  {
   "cell_type": "code",
   "execution_count": null,
   "id": "6864c813-1ffa-420b-82c0-b9bec036ed98",
   "metadata": {},
   "outputs": [],
   "source": []
  }
 ],
 "metadata": {
  "kernelspec": {
   "display_name": "Python [conda env:base] *",
   "language": "python",
   "name": "conda-base-py"
  },
  "language_info": {
   "codemirror_mode": {
    "name": "ipython",
    "version": 3
   },
   "file_extension": ".py",
   "mimetype": "text/x-python",
   "name": "python",
   "nbconvert_exporter": "python",
   "pygments_lexer": "ipython3",
   "version": "3.13.5"
  }
 },
 "nbformat": 4,
 "nbformat_minor": 5
}
